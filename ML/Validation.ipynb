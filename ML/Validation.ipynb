{
 "cells": [
  {
   "cell_type": "code",
   "execution_count": 1,
   "metadata": {},
   "outputs": [
    {
     "name": "stderr",
     "output_type": "stream",
     "text": [
      "C:\\Users\\Rock_\\Anaconda3\\lib\\site-packages\\h5py\\__init__.py:36: FutureWarning: Conversion of the second argument of issubdtype from `float` to `np.floating` is deprecated. In future, it will be treated as `np.float64 == np.dtype(float).type`.\n",
      "  from ._conv import register_converters as _register_converters\n",
      "Using TensorFlow backend.\n"
     ]
    }
   ],
   "source": [
    "from os import listdir\n",
    "from keras.preprocessing.image import load_img\n",
    "from keras.preprocessing.image import img_to_array\n",
    "from PIL import Image\n",
    "import numpy as np\n",
    "import pandas as pd\n",
    "%matplotlib notebook\n",
    "import matplotlib.pyplot as plt\n",
    "import random\n",
    "\n",
    "import keras.backend as K\n",
    "from keras.models import load_model"
   ]
  },
  {
   "cell_type": "code",
   "execution_count": 2,
   "metadata": {},
   "outputs": [],
   "source": [
    "def load_photos(directory):\n",
    "    images = []\n",
    "    labels_loc = []\n",
    "    dir_list = listdir(directory)\n",
    "    random.shuffle(dir_list)\n",
    "    for name in dir_list:\n",
    "        filename = directory + '/' + name\n",
    "        # load an image from file\n",
    "        image = load_img(filename, target_size=(96, 160))\n",
    "        # convert the image pixels to a numpy array\n",
    "        image = img_to_array(image)\n",
    "        # get image id + labels\n",
    "        value_loc = float(name.split('_')[0])\n",
    "        labels_loc.append(int(value_loc))\n",
    "        images.append(image)\n",
    "    return images, labels_loc"
   ]
  },
  {
   "cell_type": "code",
   "execution_count": 3,
   "metadata": {},
   "outputs": [
    {
     "name": "stdout",
     "output_type": "stream",
     "text": [
      "Loaded Images and labels for validation: 143\n"
     ]
    }
   ],
   "source": [
    "dataset = \"Datas/\"\n",
    "\n",
    "# load images from both train and test groups\n",
    "directory = dataset+'Val'\n",
    "images, labels_loc = load_photos(directory)\n",
    "nb_images = len(images)\n",
    "print('Loaded Images and labels for validation: %d' % nb_images)\n",
    "\n",
    "#Normalise images\n",
    "images = np.array(images)\n",
    "images = images[:,30:]\n",
    "images /= 255.0"
   ]
  },
  {
   "cell_type": "code",
   "execution_count": null,
   "metadata": {},
   "outputs": [],
   "source": []
  },
  {
   "cell_type": "code",
   "execution_count": 4,
   "metadata": {},
   "outputs": [],
   "source": [
    "model = load_model(\"model_CNN.h5\")"
   ]
  },
  {
   "cell_type": "code",
   "execution_count": 5,
   "metadata": {},
   "outputs": [],
   "source": [
    "#print(model.to_json())"
   ]
  },
  {
   "cell_type": "code",
   "execution_count": 6,
   "metadata": {},
   "outputs": [],
   "source": [
    "# Get predictions\n",
    "all_preds = model.predict(images)\n",
    "    \n",
    "loc_preds = []\n",
    "for elem in all_preds:\n",
    "    loc_preds.append(np.argmax(elem))"
   ]
  },
  {
   "cell_type": "code",
   "execution_count": 7,
   "metadata": {
    "scrolled": true
   },
   "outputs": [
    {
     "name": "stdout",
     "output_type": "stream",
     "text": [
      "2 4\n",
      "3 4\n",
      "5 6\n",
      "6 5\n",
      "4 5\n",
      "9 10\n",
      "5 6\n",
      "2 3\n",
      "3 4\n",
      "2 3\n",
      "2 3\n",
      "1 2\n",
      "6 6\n",
      "3 4\n",
      "4 4\n",
      "2 3\n",
      "2 4\n",
      "2 3\n",
      "3 4\n",
      "3 8\n",
      "3 4\n",
      "3 4\n",
      "5 10\n",
      "2 3\n",
      "2 4\n",
      "2 3\n",
      "2 3\n",
      "3 4\n",
      "5 6\n",
      "9 10\n",
      "3 4\n",
      "3 4\n",
      "3 4\n",
      "4 5\n",
      "3 4\n",
      "3 4\n",
      "3 4\n",
      "5 6\n",
      "0 1\n",
      "0 1\n",
      "4 5\n",
      "2 2\n",
      "3 8\n",
      "3 4\n",
      "2 4\n",
      "3 4\n",
      "5 6\n",
      "2 3\n",
      "1 3\n",
      "5 6\n",
      "3 4\n",
      "4 5\n",
      "2 3\n",
      "5 6\n",
      "3 4\n",
      "5 6\n",
      "5 6\n",
      "2 3\n",
      "2 3\n",
      "3 4\n",
      "2 3\n",
      "2 3\n",
      "4 5\n",
      "3 8\n",
      "5 6\n",
      "5 6\n",
      "3 4\n",
      "2 3\n",
      "2 3\n",
      "5 6\n",
      "1 10\n",
      "3 4\n",
      "2 3\n",
      "3 3\n",
      "3 4\n",
      "0 1\n",
      "5 7\n",
      "3 4\n",
      "3 4\n",
      "1 2\n",
      "2 3\n",
      "3 4\n",
      "3 4\n",
      "0 1\n",
      "5 6\n",
      "4 5\n",
      "2 2\n",
      "3 4\n",
      "6 4\n",
      "3 4\n",
      "6 7\n",
      "4 5\n",
      "5 6\n",
      "2 3\n",
      "2 3\n",
      "5 6\n",
      "2 3\n",
      "6 3\n",
      "2 3\n",
      "2 3\n",
      "4 5\n",
      "3 4\n",
      "3 4\n",
      "2 10\n",
      "3 8\n",
      "3 4\n",
      "4 5\n",
      "3 4\n",
      "2 4\n",
      "3 4\n",
      "5 6\n",
      "3 4\n",
      "2 3\n",
      "2 3\n",
      "3 4\n",
      "2 3\n",
      "9 10\n",
      "6 7\n",
      "5 6\n",
      "4 5\n",
      "6 7\n",
      "2 4\n",
      "2 3\n",
      "3 4\n",
      "2 3\n",
      "3 7\n",
      "3 4\n",
      "6 7\n",
      "4 4\n",
      "2 3\n",
      "2 3\n",
      "5 6\n",
      "3 4\n",
      "3 4\n",
      "3 4\n",
      "6 7\n",
      "5 6\n",
      "9 10\n",
      "6 7\n",
      "6 3\n",
      "2 3\n",
      "2 3\n",
      "4 5\n"
     ]
    }
   ],
   "source": [
    "for i, image in enumerate(images):\n",
    "    #plt.figure()\n",
    "    #plt.imshow(image)\n",
    "    print(loc_preds[i], labels_loc[i])"
   ]
  },
  {
   "cell_type": "code",
   "execution_count": 8,
   "metadata": {},
   "outputs": [
    {
     "name": "stdout",
     "output_type": "stream",
     "text": [
      "[-1, 0, 0, 2, 0, 0, 0, 0, 0, 0, 0, 0, 1, 0, 1, 0, -1, 0, 0, -4, 0, 0, -4, 0, -1, 0, 0, 0, 0, 0, 0, 0, 0, 0, 0, 0, 0, 0, 0, 0, 0, 1, -4, 0, -1, 0, 0, 0, -1, 0, 0, 0, 0, 0, 0, 0, 0, 0, 0, 0, 0, 0, 0, -4, 0, 0, 0, 0, 0, 0, -8, 0, 0, 1, 0, 0, -1, 0, 0, 0, 0, 0, 0, 0, 0, 0, 1, 0, 3, 0, 0, 0, 0, 0, 0, 0, 0, 4, 0, 0, 0, 0, 0, -7, -4, 0, 0, 0, -1, 0, 0, 0, 0, 0, 0, 0, 0, 0, 0, 0, 0, -1, 0, 0, 0, -3, 0, 0, 1, 0, 0, 0, 0, 0, 0, 0, 0, 0, 0, 4, 0, 0, 0] -27\n"
     ]
    }
   ],
   "source": [
    "diff = [(pred - labels_loc[i])+1 for i, pred in enumerate(loc_preds)]\n",
    "print(diff, sum(diff))"
   ]
  },
  {
   "cell_type": "code",
   "execution_count": null,
   "metadata": {},
   "outputs": [],
   "source": []
  },
  {
   "cell_type": "code",
   "execution_count": null,
   "metadata": {},
   "outputs": [],
   "source": []
  },
  {
   "cell_type": "code",
   "execution_count": null,
   "metadata": {},
   "outputs": [],
   "source": []
  },
  {
   "cell_type": "code",
   "execution_count": null,
   "metadata": {},
   "outputs": [],
   "source": []
  }
 ],
 "metadata": {
  "kernelspec": {
   "display_name": "Python 3",
   "language": "python",
   "name": "python3"
  },
  "language_info": {
   "codemirror_mode": {
    "name": "ipython",
    "version": 3
   },
   "file_extension": ".py",
   "mimetype": "text/x-python",
   "name": "python",
   "nbconvert_exporter": "python",
   "pygments_lexer": "ipython3",
   "version": "3.6.5"
  }
 },
 "nbformat": 4,
 "nbformat_minor": 2
}
